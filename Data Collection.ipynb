{
 "cells": [
  {
   "cell_type": "code",
   "execution_count": 1,
   "id": "04518c65",
   "metadata": {},
   "outputs": [],
   "source": [
    "# First all 9 transaction files are loaded and conactenated into one DataFrame\n",
    "import pandas as pd\n",
    "dataf1 = pd.read_csv(\"enugu_transactions.csv\")\n",
    "dataf2 = pd.read_csv(\"fct_transactions.csv\")\n",
    "dataf3 = pd.read_csv(\"kano_transactions.csv\")\n",
    "dataf4 = pd.read_csv(\"lagos_transactions.csv\")\n",
    "location_df = pd.read_csv(\"atm_location lookup.csv\")\n",
    "customers_df = pd.read_csv(\"customers_lookup.csv\")\n",
    "trans_type_df = pd.read_csv(\"transaction_type lookup.csv\")\n",
    "hour_df = pd.read_csv(\"hour lookup.csv\")\n",
    "calendar_df = pd.read_csv(\"calendar lookup.csv\")\n",
    "\n",
    "# Here transaction data from all states/locations are concatenated into one dataframe\n",
    "transactions = pd.concat([dataf1, dataf2, dataf3, dataf4], ignore_index=True)"
   ]
  },
  {
   "cell_type": "code",
   "execution_count": 2,
   "id": "8806d44d",
   "metadata": {},
   "outputs": [],
   "source": [
    "# location data are merged\n",
    "transactions = transactions.merge(location_df, on=\"LocationID\", how=\"left\")\n",
    "\n",
    "# customer data are merged\n",
    "transactions = transactions.merge(customers_df, on=\"CardholderID\", how=\"left\")\n",
    "\n",
    "# transaction type are merged\n",
    "transactions = transactions.merge(trans_type_df, on=\"TransactionTypeID\", how=\"left\")\n",
    "\n",
    "# hour data (based on extracted hour) are merged\n",
    "transactions[\"hour\"] = pd.to_datetime(transactions[\"TransactionStartDateTime\"]).dt.hour\n",
    "transactions = transactions.merge(hour_df, on=\"Hour_Key\", how=\"left\")\n",
    "\n",
    "# calendar data (based on date) are merged\n",
    "transactions[\"date\"] = pd.to_datetime(transactions[\"TransactionStartDateTime\"]).dt.date\n",
    "transactions = transactions.merge(calendar_df, on=\"Date\", how=\"left\")"
   ]
  },
  {
   "cell_type": "code",
   "execution_count": 3,
   "id": "ba419385",
   "metadata": {},
   "outputs": [],
   "source": [
    "#Numpy is Imported\n",
    "import numpy as np"
   ]
  },
  {
   "cell_type": "code",
   "execution_count": 6,
   "id": "74c34e32",
   "metadata": {},
   "outputs": [
    {
     "data": {
      "text/plain": [
       "Index(['TransactionID', 'TransactionStartDateTime', 'TransactionEndDateTime',\n",
       "       'Date', 'CardholderID', 'LocationID', 'TransactionTypeID',\n",
       "       'TransactionAmount', 'Hour_Key', 'Location Name', 'No of ATMs', 'City',\n",
       "       'State', 'Country', 'First Name', 'Last Name', 'Gender', 'ATMID',\n",
       "       'Birth Date', 'Occupation', 'AccountType', 'IsWisabi',\n",
       "       'TransactionTypeName', 'hour', 'Hour_Start_Time', 'Hour_End_Time',\n",
       "       'date', 'Year', 'Month Name', 'Month', 'Quarter', 'Week of Year',\n",
       "       'End of Week', 'Day of Week', 'Day Name', 'IsHoliday'],\n",
       "      dtype='object')"
      ]
     },
     "execution_count": 6,
     "metadata": {},
     "output_type": "execute_result"
    }
   ],
   "source": [
    "transactions.shape\n",
    "transactions.columns"
   ]
  },
  {
   "cell_type": "code",
   "execution_count": 7,
   "id": "a3af9da6",
   "metadata": {},
   "outputs": [],
   "source": [
    "transactions.to_csv(\"unioned_transactions.csv\", index=False)"
   ]
  },
  {
   "cell_type": "code",
   "execution_count": 8,
   "id": "b23b7e8a",
   "metadata": {},
   "outputs": [
    {
     "name": "stdout",
     "output_type": "stream",
     "text": [
      "Missing values:\n",
      " TransactionID                     0\n",
      "TransactionStartDateTime          0\n",
      "TransactionEndDateTime            0\n",
      "Date                              0\n",
      "CardholderID                      0\n",
      "LocationID                        0\n",
      "TransactionTypeID                 0\n",
      "TransactionAmount                 0\n",
      "Hour_Key                          0\n",
      "Location Name                     0\n",
      "No of ATMs                        0\n",
      "City                              0\n",
      "State                             0\n",
      "Country                           0\n",
      "First Name                        0\n",
      "Last Name                         0\n",
      "Gender                            0\n",
      "ATMID                             0\n",
      "Birth Date                        0\n",
      "Occupation                        0\n",
      "AccountType                       0\n",
      "IsWisabi                          0\n",
      "TransactionTypeName               0\n",
      "hour                              0\n",
      "Hour_Start_Time                   0\n",
      "Hour_End_Time                     0\n",
      "date                              0\n",
      "Year                        1723740\n",
      "Month Name                  1723740\n",
      "Month                       1723740\n",
      "Quarter                     1723740\n",
      "Week of Year                1723740\n",
      "End of Week                 1723740\n",
      "Day of Week                 1723740\n",
      "Day Name                    1723740\n",
      "IsHoliday                   1723740\n",
      "dtype: int64\n"
     ]
    }
   ],
   "source": [
    "# Check for missing values\n",
    "missing_values = transactions.isnull().sum()\n",
    "print(\"Missing values:\\n\", missing_values)"
   ]
  },
  {
   "cell_type": "code",
   "execution_count": null,
   "id": "22ab2503",
   "metadata": {},
   "outputs": [],
   "source": []
  }
 ],
 "metadata": {
  "kernelspec": {
   "display_name": "Python 3 (ipykernel)",
   "language": "python",
   "name": "python3"
  },
  "language_info": {
   "codemirror_mode": {
    "name": "ipython",
    "version": 3
   },
   "file_extension": ".py",
   "mimetype": "text/x-python",
   "name": "python",
   "nbconvert_exporter": "python",
   "pygments_lexer": "ipython3",
   "version": "3.10.9"
  }
 },
 "nbformat": 4,
 "nbformat_minor": 5
}
